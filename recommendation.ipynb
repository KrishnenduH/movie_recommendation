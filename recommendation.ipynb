{
 "cells": [
  {
   "cell_type": "markdown",
   "metadata": {},
   "source": [
    "# POPULARITY BASED SYSTEM"
   ]
  },
  {
   "cell_type": "code",
   "execution_count": 1,
   "metadata": {},
   "outputs": [
    {
     "name": "stdout",
     "output_type": "stream",
     "text": [
      "       movieId                                title  \\\n",
      "0            1                     Toy Story (1995)   \n",
      "1            2                       Jumanji (1995)   \n",
      "2            3              Grumpier Old Men (1995)   \n",
      "3            4             Waiting to Exhale (1995)   \n",
      "4            5   Father of the Bride Part II (1995)   \n",
      "...        ...                                  ...   \n",
      "10324   146684        Cosmic Scrat-tastrophe (2015)   \n",
      "10325   146878           Le Grand Restaurant (1966)   \n",
      "10326   148238       A Very Murray Christmas (2015)   \n",
      "10327   148626                 The Big Short (2015)   \n",
      "10328   149532  Marco Polo: One Hundred Eyes (2015)   \n",
      "\n",
      "                                            genres  \n",
      "0      Adventure|Animation|Children|Comedy|Fantasy  \n",
      "1                       Adventure|Children|Fantasy  \n",
      "2                                   Comedy|Romance  \n",
      "3                             Comedy|Drama|Romance  \n",
      "4                                           Comedy  \n",
      "...                                            ...  \n",
      "10324                    Animation|Children|Comedy  \n",
      "10325                                       Comedy  \n",
      "10326                                       Comedy  \n",
      "10327                                        Drama  \n",
      "10328                           (no genres listed)  \n",
      "\n",
      "[10329 rows x 3 columns]\n",
      "        userId  movieId  rating   timestamp\n",
      "0            1       16     4.0  1217897793\n",
      "1            1       24     1.5  1217895807\n",
      "2            1       32     4.0  1217896246\n",
      "3            1       47     4.0  1217896556\n",
      "4            1       50     4.0  1217896523\n",
      "...        ...      ...     ...         ...\n",
      "105334     668   142488     4.0  1451535844\n",
      "105335     668   142507     3.5  1451535889\n",
      "105336     668   143385     4.0  1446388585\n",
      "105337     668   144976     2.5  1448656898\n",
      "105338     668   148626     4.5  1451148148\n",
      "\n",
      "[105339 rows x 4 columns]\n"
     ]
    },
    {
     "data": {
      "application/vnd.jupyter.widget-view+json": {
       "model_id": "222108b1f4b54fdbb47b3713c27fe5a4",
       "version_major": 2,
       "version_minor": 0
      },
      "text/plain": [
       "HBox(children=(Label(value='Genre (g):'), Label(value='  '), Text(value='')))"
      ]
     },
     "metadata": {},
     "output_type": "display_data"
    },
    {
     "data": {
      "application/vnd.jupyter.widget-view+json": {
       "model_id": "053fa1ab7b36400e8d4e0238bb3be840",
       "version_major": 2,
       "version_minor": 0
      },
      "text/plain": [
       "HBox(children=(Label(value='Minimum Reviews (t):'), Label(value='  '), IntText(value=0)))"
      ]
     },
     "metadata": {},
     "output_type": "display_data"
    },
    {
     "data": {
      "application/vnd.jupyter.widget-view+json": {
       "model_id": "765dcfac9ba342e79e52f57bd9da37ca",
       "version_major": 2,
       "version_minor": 0
      },
      "text/plain": [
       "HBox(children=(Label(value='Number of Recommendations (N):'), Label(value='  '), IntText(value=0)))"
      ]
     },
     "metadata": {},
     "output_type": "display_data"
    },
    {
     "data": {
      "application/vnd.jupyter.widget-view+json": {
       "model_id": "9df14934139946c3b602e06b7f731cec",
       "version_major": 2,
       "version_minor": 0
      },
      "text/plain": [
       "Button(description='Recommend Movies', style=ButtonStyle())"
      ]
     },
     "metadata": {},
     "output_type": "display_data"
    },
    {
     "data": {
      "application/vnd.jupyter.widget-view+json": {
       "model_id": "6bb36155542a49698d15df207a45da6d",
       "version_major": 2,
       "version_minor": 0
      },
      "text/plain": [
       "Output()"
      ]
     },
     "metadata": {},
     "output_type": "display_data"
    }
   ],
   "source": [
    "import pandas as pd\n",
    "import ipywidgets as widgets\n",
    "from IPython.display import display\n",
    "from ipywidgets import Layout\n",
    "from popular_movie import  recommend_movies\n",
    "from IPython.core.display import HTML\n",
    "\n",
    "\n",
    "movies_data = pd.read_csv('movies.csv')\n",
    "ratings_data = pd.read_csv('ratings.csv')\n",
    "\n",
    "movie_ratings = pd.merge(movies_data, ratings_data, on='movieId')        \n",
    "\n",
    "\n",
    "# genre_input = widgets.Text(description = 'Genre (g) : ')\n",
    "# min_reviews_threshold_input = widgets.IntText(description = 'Minimum Reviews (t) : ')\n",
    "# num_recommendations_input = widgets.IntText(description = 'Number of Recommendations (N) : ')\n",
    "\n",
    "description_genre = widgets.Label('Genre (g):')\n",
    "genre_input = widgets.Text(value='')\n",
    "genre_hbox = widgets.HBox([description_genre , widgets.Label('  '), genre_input])\n",
    "\n",
    "description_reviews = widgets.Label('Minimum Reviews (t):')\n",
    "review_input = widgets.IntText(value=0)\n",
    "review_hbox = widgets.HBox([description_reviews , widgets.Label('  '), review_input])\n",
    "\n",
    "\n",
    "description_recommendations = widgets.Label('Number of Recommendations (N):')\n",
    "recommendation_input = widgets.IntText(value=0)\n",
    "recommendation_hbox = widgets.HBox([description_recommendations , widgets.Label('  '), recommendation_input])\n",
    "\n",
    "\n",
    "recommend_button = widgets.Button(description = 'Recommend Movies')\n",
    "output = widgets.Output()\n",
    "\n",
    "def recommend_movies_on_button_click(b):\n",
    "        with output:\n",
    "            output.clear_output()\n",
    "            genre = genre_input.value\n",
    "            min_reviews_threshold = review_input.value\n",
    "            num_recommendations = recommendation_input.value\n",
    "\n",
    "            top_recommendations = recommend_movies(movies_data,ratings_data, genre, min_reviews_threshold, num_recommendations)\n",
    "\n",
    "            print(f\"Top {num_recommendations} Recommended Movies in the '{genre}' Genre (Minimum {min_reviews_threshold} Reviews):\\n\")\n",
    "            print(top_recommendations[['title', 'rating', 'Reviews Count']])\n",
    "\n",
    "# Link the button click event to the function\n",
    "recommend_button.on_click(recommend_movies_on_button_click)\n",
    "\n",
    "# Display widgets\n",
    "display(genre_hbox, review_hbox, recommendation_hbox, recommend_button, output)\n"
   ]
  },
  {
   "cell_type": "markdown",
   "metadata": {},
   "source": [
    "# COLLABORATIVE BASED SYSTEM"
   ]
  },
  {
   "cell_type": "code",
   "execution_count": 2,
   "metadata": {},
   "outputs": [
    {
     "name": "stdout",
     "output_type": "stream",
     "text": [
      "       movieId                                title  \\\n",
      "0            1                     Toy Story (1995)   \n",
      "1            2                       Jumanji (1995)   \n",
      "2            3              Grumpier Old Men (1995)   \n",
      "3            4             Waiting to Exhale (1995)   \n",
      "4            5   Father of the Bride Part II (1995)   \n",
      "...        ...                                  ...   \n",
      "10324   146684        Cosmic Scrat-tastrophe (2015)   \n",
      "10325   146878           Le Grand Restaurant (1966)   \n",
      "10326   148238       A Very Murray Christmas (2015)   \n",
      "10327   148626                 The Big Short (2015)   \n",
      "10328   149532  Marco Polo: One Hundred Eyes (2015)   \n",
      "\n",
      "                                            genres  \n",
      "0      Adventure|Animation|Children|Comedy|Fantasy  \n",
      "1                       Adventure|Children|Fantasy  \n",
      "2                                   Comedy|Romance  \n",
      "3                             Comedy|Drama|Romance  \n",
      "4                                           Comedy  \n",
      "...                                            ...  \n",
      "10324                    Animation|Children|Comedy  \n",
      "10325                                       Comedy  \n",
      "10326                                       Comedy  \n",
      "10327                                        Drama  \n",
      "10328                           (no genres listed)  \n",
      "\n",
      "[10329 rows x 3 columns]\n",
      "        userId  movieId  rating   timestamp\n",
      "0            1       16     4.0  1217897793\n",
      "1            1       24     1.5  1217895807\n",
      "2            1       32     4.0  1217896246\n",
      "3            1       47     4.0  1217896556\n",
      "4            1       50     4.0  1217896523\n",
      "...        ...      ...     ...         ...\n",
      "105334     668   142488     4.0  1451535844\n",
      "105335     668   142507     3.5  1451535889\n",
      "105336     668   143385     4.0  1446388585\n",
      "105337     668   144976     2.5  1448656898\n",
      "105338     668   148626     4.5  1451148148\n",
      "\n",
      "[105339 rows x 4 columns]\n"
     ]
    },
    {
     "name": "stderr",
     "output_type": "stream",
     "text": [
      "C:\\Users\\HP\\AppData\\Roaming\\Python\\Python310\\site-packages\\sklearn\\cluster\\_kmeans.py:1412: FutureWarning: The default value of `n_init` will change from 10 to 'auto' in 1.4. Set the value of `n_init` explicitly to suppress the warning\n",
      "  super()._check_params_vs_input(X, default_n_init=10)\n",
      "C:\\Users\\HP\\AppData\\Roaming\\Python\\Python310\\site-packages\\joblib\\externals\\loky\\backend\\context.py:136: UserWarning: Could not find the number of physical cores for the following reason:\n",
      "[WinError 2] The system cannot find the file specified\n",
      "Returning the number of logical cores instead. You can silence this warning by setting LOKY_MAX_CPU_COUNT to the number of cores you want to use.\n",
      "  warnings.warn(\n",
      "  File \"C:\\Users\\HP\\AppData\\Roaming\\Python\\Python310\\site-packages\\joblib\\externals\\loky\\backend\\context.py\", line 257, in _count_physical_cores\n",
      "    cpu_info = subprocess.run(\n",
      "  File \"c:\\Program Files\\Python310\\lib\\subprocess.py\", line 501, in run\n",
      "    with Popen(*popenargs, **kwargs) as process:\n",
      "  File \"c:\\Program Files\\Python310\\lib\\subprocess.py\", line 969, in __init__\n",
      "    self._execute_child(args, executable, preexec_fn, close_fds,\n",
      "  File \"c:\\Program Files\\Python310\\lib\\subprocess.py\", line 1438, in _execute_child\n",
      "    hp, ht, pid, tid = _winapi.CreateProcess(executable, args,\n"
     ]
    },
    {
     "data": {
      "application/vnd.jupyter.widget-view+json": {
       "model_id": "3b5c31053ed4474eaedfb7a5da471c2c",
       "version_major": 2,
       "version_minor": 0
      },
      "text/plain": [
       "HBox(children=(Label(value='User ID :'), Label(value='  '), IntText(value=0)))"
      ]
     },
     "metadata": {},
     "output_type": "display_data"
    },
    {
     "data": {
      "application/vnd.jupyter.widget-view+json": {
       "model_id": "5cdcb6d33a4241259252abc414f56d6b",
       "version_major": 2,
       "version_minor": 0
      },
      "text/plain": [
       "HBox(children=(Label(value='Minimum Users Threshold (t):'), Label(value='  '), IntText(value=0)))"
      ]
     },
     "metadata": {},
     "output_type": "display_data"
    },
    {
     "data": {
      "application/vnd.jupyter.widget-view+json": {
       "model_id": "dd9f913bbf714ccb8d1917a0096bceb4",
       "version_major": 2,
       "version_minor": 0
      },
      "text/plain": [
       "HBox(children=(Label(value='Number of Recommendations (N):'), Label(value='  '), IntText(value=0)))"
      ]
     },
     "metadata": {},
     "output_type": "display_data"
    },
    {
     "data": {
      "application/vnd.jupyter.widget-view+json": {
       "model_id": "5da55cab39ef4c9d9fe576db6335a4db",
       "version_major": 2,
       "version_minor": 0
      },
      "text/plain": [
       "Button(description='Recommend Movies', style=ButtonStyle())"
      ]
     },
     "metadata": {},
     "output_type": "display_data"
    },
    {
     "data": {
      "application/vnd.jupyter.widget-view+json": {
       "model_id": "1d0b04decc334812ae52699143f36946",
       "version_major": 2,
       "version_minor": 0
      },
      "text/plain": [
       "Label(value='')"
      ]
     },
     "metadata": {},
     "output_type": "display_data"
    },
    {
     "data": {
      "application/vnd.jupyter.widget-view+json": {
       "model_id": "67fc17a0bb034c569eb07512ad1106a1",
       "version_major": 2,
       "version_minor": 0
      },
      "text/plain": [
       "Output()"
      ]
     },
     "metadata": {},
     "output_type": "display_data"
    }
   ],
   "source": [
    "from collab import load_data, cluster_users, get_user_cluster, get_similar_users, get_similar_user_data, calculate_average_rating, get_top_recommendations\n",
    "import pandas as pd\n",
    "from sklearn.cluster import KMeans\n",
    "import ipywidgets as widgets\n",
    "from IPython.display import display\n",
    "\n",
    "movies_data = pd.read_csv('movies.csv')\n",
    "ratings_data = pd.read_csv('ratings.csv')\n",
    "movie_ratings = pd.merge(movies_data, ratings_data, on='movieId')\n",
    "\n",
    "# target_user_input = widgets.IntText(description='User ID:')\n",
    "# num_recommendations_input = widgets.IntText(description='Number of Recommendations (N):')\n",
    "# min_users_threshold_input = widgets.IntText(description='Minimum Users Threshold (t):')\n",
    "\n",
    "description = widgets.Label('User ID :')\n",
    "target_user_input= widgets.IntText(value=0)\n",
    "target_user_hbox = widgets.HBox([description , widgets.Label('  '), target_user_input])\n",
    "\n",
    "description = widgets.Label('Minimum Users Threshold (t):')\n",
    "min_users_threshold_input = widgets.IntText(value=0)\n",
    "min_users_threshold_hbox = widgets.HBox([description , widgets.Label('  '), min_users_threshold_input])\n",
    "\n",
    "description = widgets.Label('Number of Recommendations (N):')\n",
    "num_recommendations_input= widgets.IntText(value=0)\n",
    "num_recommendations_hbox = widgets.HBox([description , widgets.Label('  '), num_recommendations_input])\n",
    "\n",
    "\n",
    "recommend_button = widgets.Button(description='Recommend Movies')\n",
    "target_user_cluster_label = widgets.Label(value='')\n",
    "\n",
    "recommendations_output = widgets.Output()\n",
    "\n",
    "n_clusters = 5\n",
    "movie_ratings = cluster_users(movie_ratings, n_clusters)\n",
    "\n",
    "def recommend_movies_on_button_click(b):\n",
    "    target_user = int(target_user_input.value)\n",
    "    num_recommendations = int(num_recommendations_input.value)\n",
    "    min_users_threshold = int(min_users_threshold_input.value)\n",
    "\n",
    "    target_user_cluster = get_user_cluster(target_user, movie_ratings)\n",
    "    target_user_cluster_label.value = f\"Cluster of user {target_user} is {target_user_cluster}\"\n",
    "\n",
    "    similar_users = get_similar_users(target_user_cluster, movie_ratings)\n",
    "    similar_user_data = get_similar_user_data(similar_users, movie_ratings)\n",
    "    avg_rating = calculate_average_rating(similar_user_data)\n",
    "\n",
    "    recommended_movies = get_top_recommendations(target_user, num_recommendations, min_users_threshold, avg_rating, movie_ratings)\n",
    "\n",
    "    recommendations_output.clear_output()\n",
    "    with recommendations_output:\n",
    "        print(f\"Top {num_recommendations} Recommended Movies for user {target_user}:\")\n",
    "        display(recommended_movies)\n",
    "\n",
    "recommend_button.on_click(recommend_movies_on_button_click)\n",
    "display(target_user_hbox, min_users_threshold_hbox, num_recommendations_hbox, recommend_button, target_user_cluster_label, recommendations_output)\n",
    "\n"
   ]
  },
  {
   "cell_type": "markdown",
   "metadata": {},
   "source": [
    "# CONTENT BASED SYSTEM"
   ]
  },
  {
   "cell_type": "code",
   "execution_count": 3,
   "metadata": {},
   "outputs": [
    {
     "data": {
      "application/vnd.jupyter.widget-view+json": {
       "model_id": "777a2cc294ba46ceb7e4b0e26489749c",
       "version_major": 2,
       "version_minor": 0
      },
      "text/plain": [
       "HBox(children=(Label(value='Enter a movie name:'), Label(value='  '), Text(value='')))"
      ]
     },
     "metadata": {},
     "output_type": "display_data"
    },
    {
     "data": {
      "application/vnd.jupyter.widget-view+json": {
       "model_id": "892fc59ebb3a402e8261bc58646e53da",
       "version_major": 2,
       "version_minor": 0
      },
      "text/plain": [
       "Button(description='Recommend Movies', style=ButtonStyle())"
      ]
     },
     "metadata": {},
     "output_type": "display_data"
    },
    {
     "data": {
      "application/vnd.jupyter.widget-view+json": {
       "model_id": "39a46f7f59c64e9092db1f035534e6d1",
       "version_major": 2,
       "version_minor": 0
      },
      "text/plain": [
       "Output()"
      ]
     },
     "metadata": {},
     "output_type": "display_data"
    }
   ],
   "source": [
    "import pandas as pd\n",
    "from sklearn.feature_extraction.text import TfidfVectorizer\n",
    "from sklearn.metrics.pairwise import cosine_similarity\n",
    "import ipywidgets as widgets\n",
    "from IPython.display import display\n",
    "import difflib\n",
    "from content import load_movie_data, calculate_similarity, get_movie_recommendations\n",
    "\n",
    "\n",
    "# Load movie data and calculate similarity matrix\n",
    "movies_data = load_movie_data('movies.csv')\n",
    "similarity_matrix = calculate_similarity(movies_data)\n",
    "\n",
    "# Create IPyWidgets\n",
    "# movie_name_input = widgets.Text(\n",
    "#     value='',\n",
    "#     description='Enter a movie name:',\n",
    "#     layout = widgets.Layout(padding ='20px')\n",
    "# )\n",
    "\n",
    "description = widgets.Label('Enter a movie name:')\n",
    "movie_name_input = widgets.Text(value='')\n",
    "\n",
    "movie_hbox = widgets.HBox([description , widgets.Label('  '), movie_name_input])\n",
    "\n",
    "recommend_button = widgets.Button(\n",
    "    description='Recommend Movies'\n",
    ")\n",
    "\n",
    "recommendation_output = widgets.Output()\n",
    "\n",
    "# Define the recommend_movies function\n",
    "def recommend_movies(b):\n",
    "    with recommendation_output:\n",
    "        recommendation_output.clear_output()\n",
    "        movie_name = movie_name_input.value\n",
    "        movie_recommendations = get_movie_recommendations(movie_name, movies_data, similarity_matrix)\n",
    "\n",
    "        if movie_recommendations:\n",
    "            print(\"Movies suggested for you:\")\n",
    "            for i, (index, score) in enumerate(movie_recommendations):\n",
    "                if i < 5:\n",
    "                    recommended_movie = movies_data.iloc[index]['title']\n",
    "                    print(f'{i + 1}. {recommended_movie}')\n",
    "        else:\n",
    "            print(\"No close match found for the entered movie name.\")\n",
    "\n",
    "# Connect the button to the recommend_movies function\n",
    "recommend_button.on_click(recommend_movies)\n",
    "\n",
    "# Display the widgets\n",
    "display(movie_hbox, recommend_button, recommendation_output)"
   ]
  }
 ],
 "metadata": {
  "kernelspec": {
   "display_name": "Python 3",
   "language": "python",
   "name": "python3"
  },
  "language_info": {
   "codemirror_mode": {
    "name": "ipython",
    "version": 3
   },
   "file_extension": ".py",
   "mimetype": "text/x-python",
   "name": "python",
   "nbconvert_exporter": "python",
   "pygments_lexer": "ipython3",
   "version": "3.10.7"
  }
 },
 "nbformat": 4,
 "nbformat_minor": 2
}
