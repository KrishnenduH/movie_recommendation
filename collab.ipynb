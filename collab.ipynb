{
 "cells": [
  {
   "cell_type": "code",
   "execution_count": 1,
   "metadata": {},
   "outputs": [],
   "source": [
    "import pandas as pd\n",
    "from sklearn.cluster import KMeans"
   ]
  },
  {
   "cell_type": "code",
   "execution_count": 2,
   "metadata": {},
   "outputs": [],
   "source": [
    "movies_data = pd.read_csv('movies.csv')\n",
    "# print(movies_data)\n",
    "\n",
    "ratings_data = pd.read_csv('ratings.csv')\n",
    "# print(ratings_data)"
   ]
  },
  {
   "cell_type": "code",
   "execution_count": 3,
   "metadata": {},
   "outputs": [],
   "source": [
    "def load_data(movies_data, ratings_data):\n",
    "    movie_ratings = pd.merge(movies_data, ratings_data, on='movieId')\n",
    "    return movie_ratings\n"
   ]
  },
  {
   "cell_type": "code",
   "execution_count": 4,
   "metadata": {},
   "outputs": [],
   "source": [
    "def cluster_users(movie_ratings, n_clusters=3):\n",
    "    kmeans = KMeans(n_clusters=n_clusters, random_state=0)\n",
    "    movie_ratings['user_cluster'] = kmeans.fit_predict(movie_ratings['userId'].values.reshape(-1, 1))\n",
    "    return movie_ratings"
   ]
  },
  {
   "cell_type": "code",
   "execution_count": 5,
   "metadata": {},
   "outputs": [],
   "source": [
    "def get_user_cluster(target_user, movie_ratings):\n",
    "    return movie_ratings[movie_ratings['userId'] == target_user]['user_cluster'].values[0]"
   ]
  },
  {
   "cell_type": "code",
   "execution_count": 6,
   "metadata": {},
   "outputs": [],
   "source": [
    "def get_similar_users(target_user_cluster, movie_ratings):\n",
    "    similar_users = movie_ratings[movie_ratings['user_cluster'] == target_user_cluster]['userId'].unique()\n",
    "    return similar_users"
   ]
  },
  {
   "cell_type": "code",
   "execution_count": 7,
   "metadata": {},
   "outputs": [],
   "source": [
    "def get_similar_user_data(similar_users, movie_ratings):\n",
    "    similar_user_data = movie_ratings[movie_ratings['userId'].isin(similar_users)]\n",
    "    return similar_user_data"
   ]
  },
  {
   "cell_type": "code",
   "execution_count": 8,
   "metadata": {},
   "outputs": [],
   "source": [
    "def calculate_average_rating(similar_user_data):\n",
    "    avg_rating = similar_user_data.groupby('title')['rating'].mean()\n",
    "    return avg_rating\n"
   ]
  },
  {
   "cell_type": "code",
   "execution_count": 9,
   "metadata": {},
   "outputs": [],
   "source": [
    "def get_top_recommendations(target_user, num_recommendations,min_users_threshold ,avg_rating, movie_ratings):\n",
    "    target_user_movies = movie_ratings[movie_ratings['userId'] == target_user]['title']\n",
    "    top_movies = avg_rating.sort_values(ascending=False)\n",
    "    top_movies = top_movies[~top_movies.index.isin(target_user_movies)]\n",
    "    recommended_movies = top_movies.head(num_recommendations)\n",
    "    return recommended_movies"
   ]
  }
 ],
 "metadata": {
  "kernelspec": {
   "display_name": "Python 3",
   "language": "python",
   "name": "python3"
  },
  "language_info": {
   "codemirror_mode": {
    "name": "ipython",
    "version": 3
   },
   "file_extension": ".py",
   "mimetype": "text/x-python",
   "name": "python",
   "nbconvert_exporter": "python",
   "pygments_lexer": "ipython3",
   "version": "3.10.7"
  }
 },
 "nbformat": 4,
 "nbformat_minor": 2
}
