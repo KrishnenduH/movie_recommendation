{
 "cells": [
  {
   "cell_type": "code",
   "execution_count": 1,
   "metadata": {},
   "outputs": [],
   "source": [
    "import pandas as pd\n"
   ]
  },
  {
   "cell_type": "code",
   "execution_count": 2,
   "metadata": {},
   "outputs": [],
   "source": [
    "movies_data = pd.read_csv('movies.csv')\n",
    "# print(movies_data)\n",
    "\n",
    "ratings_data = pd.read_csv('ratings.csv')\n",
    "# print(ratings_data)"
   ]
  },
  {
   "cell_type": "code",
   "execution_count": 3,
   "metadata": {},
   "outputs": [],
   "source": [
    "def load_data(movies_data, ratings_data):\n",
    "    movie_ratings = pd.merge(movies_data, ratings_data, on='movieId')\n",
    "    return movie_ratings"
   ]
  },
  {
   "cell_type": "code",
   "execution_count": 4,
   "metadata": {},
   "outputs": [],
   "source": [
    "def add_reviews_count(movie_ratings):\n",
    "    movie_ratings['Reviews Count'] = movie_ratings.groupby('genres')['rating'].transform('count')\n",
    "    return movie_ratings"
   ]
  },
  {
   "cell_type": "code",
   "execution_count": 5,
   "metadata": {},
   "outputs": [],
   "source": [
    "def filter_genre_movies(movie_ratings, genre):\n",
    "    genre_movies = movie_ratings[movie_ratings['genres'].str.contains(genre, case=False)]\n",
    "    return genre_movies"
   ]
  },
  {
   "cell_type": "code",
   "execution_count": 6,
   "metadata": {},
   "outputs": [],
   "source": [
    "def calculate_genre_movie_stats(genre_movies):\n",
    "    genre_movie_stats = genre_movies.groupby('title').agg({'rating': 'mean', 'Reviews Count': 'count'}).reset_index()\n",
    "    return genre_movie_stats\n"
   ]
  },
  {
   "cell_type": "code",
   "execution_count": 7,
   "metadata": {},
   "outputs": [],
   "source": [
    "def filter_by_reviews_threshold(genre_movie_stats, min_reviews_threshold):\n",
    "    genre_movie_stats = genre_movie_stats[genre_movie_stats['Reviews Count'] >= min_reviews_threshold]\n",
    "    return genre_movie_stats"
   ]
  },
  {
   "cell_type": "code",
   "execution_count": 8,
   "metadata": {},
   "outputs": [],
   "source": [
    "def sort_genre_movies(genre_movie_stats, num_recommendations):\n",
    "    sorted_genre_movies = genre_movie_stats.sort_values(by=['rating', 'Reviews Count'], ascending=[False, False])\n",
    "    top_genre_recommendations = sorted_genre_movies.head(num_recommendations)\n",
    "    return top_genre_recommendations"
   ]
  },
  {
   "cell_type": "code",
   "execution_count": null,
   "metadata": {},
   "outputs": [],
   "source": [
    "def recommend_movies(movies_data,ratings_data, genre, min_reviews_threshold, num_recommendations):\n",
    "    movie_ratings = load_data(movies_data, ratings_data)\n",
    "    movie_ratings = add_reviews_count(movie_ratings)\n",
    "    genre_movies = filter_genre_movies(movie_ratings, genre)\n",
    "    genre_movie_stats = calculate_genre_movie_stats(genre_movies)\n",
    "    genre_movie_stats = filter_by_reviews_threshold(genre_movie_stats, min_reviews_threshold)\n",
    "    top_genre_recommendations = sort_genre_movies(genre_movie_stats, num_recommendations)\n",
    "    return top_genre_recommendations"
   ]
  }
 ],
 "metadata": {
  "kernelspec": {
   "display_name": "Python 3",
   "language": "python",
   "name": "python3"
  },
  "language_info": {
   "codemirror_mode": {
    "name": "ipython",
    "version": 3
   },
   "file_extension": ".py",
   "mimetype": "text/x-python",
   "name": "python",
   "nbconvert_exporter": "python",
   "pygments_lexer": "ipython3",
   "version": "3.10.7"
  }
 },
 "nbformat": 4,
 "nbformat_minor": 2
}
